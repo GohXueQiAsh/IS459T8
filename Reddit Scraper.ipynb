{
 "cells": [
  {
   "cell_type": "code",
   "execution_count": 1,
   "metadata": {},
   "outputs": [
    {
     "name": "stdout",
     "output_type": "stream",
     "text": [
      "Requirement already satisfied: selenium in c:\\users\\jerald\\anaconda3\\lib\\site-packages (4.1.0)\n",
      "Requirement already satisfied: trio in c:\\users\\jerald\\anaconda3\\lib\\site-packages (from selenium) (0.20.0)\n",
      "Requirement already satisfied: urllib3[secure] in c:\\users\\jerald\\anaconda3\\lib\\site-packages (from selenium) (1.25.11)\n",
      "Requirement already satisfied: trio-websocket in c:\\users\\jerald\\anaconda3\\lib\\site-packages (from selenium) (0.9.2)\n",
      "Requirement already satisfied: async-generator>=1.9 in c:\\users\\jerald\\anaconda3\\lib\\site-packages (from trio->selenium) (1.10)\n",
      "Requirement already satisfied: idna in c:\\users\\jerald\\anaconda3\\lib\\site-packages (from trio->selenium) (2.10)\n",
      "Requirement already satisfied: outcome in c:\\users\\jerald\\anaconda3\\lib\\site-packages (from trio->selenium) (1.1.0)\n",
      "Requirement already satisfied: sortedcontainers in c:\\users\\jerald\\anaconda3\\lib\\site-packages (from trio->selenium) (2.2.2)\n",
      "Requirement already satisfied: sniffio in c:\\users\\jerald\\anaconda3\\lib\\site-packages (from trio->selenium) (1.2.0)\n",
      "Requirement already satisfied: attrs>=19.2.0 in c:\\users\\jerald\\anaconda3\\lib\\site-packages (from trio->selenium) (20.3.0)\n",
      "Requirement already satisfied: cffi>=1.14 in c:\\users\\jerald\\anaconda3\\lib\\site-packages (from trio->selenium) (1.14.3)\n",
      "Requirement already satisfied: wsproto>=0.14 in c:\\users\\jerald\\anaconda3\\lib\\site-packages (from trio-websocket->selenium) (1.1.0)\n",
      "Requirement already satisfied: certifi in c:\\users\\jerald\\anaconda3\\lib\\site-packages (from urllib3[secure]->selenium) (2020.6.20)\n",
      "Requirement already satisfied: pyOpenSSL>=0.14 in c:\\users\\jerald\\anaconda3\\lib\\site-packages (from urllib3[secure]->selenium) (19.1.0)\n",
      "Requirement already satisfied: cryptography>=1.3.4 in c:\\users\\jerald\\anaconda3\\lib\\site-packages (from urllib3[secure]->selenium) (3.1.1)\n",
      "Requirement already satisfied: pycparser in c:\\users\\jerald\\anaconda3\\lib\\site-packages (from cffi>=1.14->trio->selenium) (2.20)\n",
      "Requirement already satisfied: six>=1.4.1 in c:\\users\\jerald\\anaconda3\\lib\\site-packages (from cryptography>=1.3.4->urllib3[secure]->selenium) (1.15.0)\n",
      "Requirement already satisfied: h11<1,>=0.9.0 in c:\\users\\jerald\\anaconda3\\lib\\site-packages (from wsproto>=0.14->trio-websocket->selenium) (0.12.0)\n",
      "Note: you may need to restart the kernel to use updated packages.\n"
     ]
    },
    {
     "name": "stderr",
     "output_type": "stream",
     "text": [
      "WARNING: You are using pip version 22.0.4; however, version 23.0.1 is available.\n",
      "You should consider upgrading via the 'C:\\Users\\Jerald\\anaconda3\\python.exe -m pip install --upgrade pip' command.\n"
     ]
    }
   ],
   "source": [
    "pip install selenium"
   ]
  },
  {
   "cell_type": "code",
   "execution_count": 2,
   "metadata": {
    "scrolled": false
   },
   "outputs": [
    {
     "name": "stdout",
     "output_type": "stream",
     "text": [
      "Requirement already satisfied: webdriver-manager in c:\\users\\jerald\\anaconda3\\lib\\site-packages (3.8.5)\n",
      "Requirement already satisfied: tqdm in c:\\users\\jerald\\anaconda3\\lib\\site-packages (from webdriver-manager) (4.62.3)\n",
      "Requirement already satisfied: requests in c:\\users\\jerald\\anaconda3\\lib\\site-packages (from webdriver-manager) (2.27.1)\n",
      "Requirement already satisfied: python-dotenv in c:\\users\\jerald\\anaconda3\\lib\\site-packages (from webdriver-manager) (0.19.2)\n",
      "Requirement already satisfied: packaging in c:\\users\\jerald\\anaconda3\\lib\\site-packages (from webdriver-manager) (21.3)\n",
      "Requirement already satisfied: pyparsing!=3.0.5,>=2.0.2 in c:\\users\\jerald\\anaconda3\\lib\\site-packages (from packaging->webdriver-manager) (2.4.7)\n",
      "Requirement already satisfied: charset-normalizer~=2.0.0 in c:\\users\\jerald\\anaconda3\\lib\\site-packages (from requests->webdriver-manager) (2.0.12)\n",
      "Requirement already satisfied: urllib3<1.27,>=1.21.1 in c:\\users\\jerald\\anaconda3\\lib\\site-packages (from requests->webdriver-manager) (1.25.11)\n",
      "Requirement already satisfied: certifi>=2017.4.17 in c:\\users\\jerald\\anaconda3\\lib\\site-packages (from requests->webdriver-manager) (2020.6.20)\n",
      "Requirement already satisfied: idna<4,>=2.5 in c:\\users\\jerald\\anaconda3\\lib\\site-packages (from requests->webdriver-manager) (2.10)\n",
      "Requirement already satisfied: colorama in c:\\users\\jerald\\anaconda3\\lib\\site-packages (from tqdm->webdriver-manager) (0.4.4)\n",
      "Note: you may need to restart the kernel to use updated packages.\n"
     ]
    },
    {
     "name": "stderr",
     "output_type": "stream",
     "text": [
      "WARNING: You are using pip version 22.0.4; however, version 23.0.1 is available.\n",
      "You should consider upgrading via the 'C:\\Users\\Jerald\\anaconda3\\python.exe -m pip install --upgrade pip' command.\n"
     ]
    }
   ],
   "source": [
    "pip install webdriver-manager"
   ]
  },
  {
   "cell_type": "code",
   "execution_count": 1,
   "metadata": {},
   "outputs": [],
   "source": [
    "from selenium import webdriver\n",
    "from selenium.webdriver.chrome.options import Options\n",
    "from bs4 import BeautifulSoup as bs\n",
    "import time\n",
    "import re\n",
    "from urllib.request import urlopen\n",
    "import json\n",
    "from selenium.webdriver.common.keys import Keys\n",
    "import praw\n",
    "import pandas as pd\n",
    "import datetime as dt\n",
    "from webdriver_manager.chrome import ChromeDriverManager"
   ]
  },
  {
   "cell_type": "code",
   "execution_count": 6,
   "metadata": {},
   "outputs": [],
   "source": [
    "chrome_options = webdriver.ChromeOptions()\n",
    "chrome_options.add_argument('--headless')\n",
    "chrome_options.add_argument('--no-sandbox')\n",
    "chrome_options.add_argument('--disable-dev-shm-usage')"
   ]
  },
  {
   "cell_type": "code",
   "execution_count": 7,
   "metadata": {},
   "outputs": [],
   "source": [
    "def scrape_url(source_path):\n",
    "    page = 1\n",
    "    url = []\n",
    "    search_list = ['singapore','bivalent']\n",
    "    while(page <= 2): \n",
    "        browser = webdriver.Chrome('chromedriver',options=chrome_options)\n",
    "        browser.get(source_path)\n",
    "        Pagelength = browser.execute_script(\"window.scrollTo(0, document.body.scrollHeight);\")\n",
    "        source = browser.page_source\n",
    "        soup = bs(source, 'html.parser')\n",
    "        body = soup.find('body')\n",
    "\n",
    "        threads = soup.find_all(\"header\", class_=\"search-result-header\")\n",
    "        next_page = soup.find_all(\"span\", class_=\"nextprev\")\n",
    "        source_path = next_page[0].find(\"a\").get('href')\n",
    "                    \n",
    "        for link in threads:\n",
    "            title = link.find(\"a\").text\n",
    "            if re.compile('(?=.*' + ')(?=.*'.join(search_list) + ')', re.IGNORECASE).search(title): #re.IGNORECASE is used to ignore case\n",
    "                url_string = link.find('a').get('href')\n",
    "                url.append(url_string)\n",
    "        page += 1            \n",
    "    return url"
   ]
  },
  {
   "cell_type": "code",
   "execution_count": null,
   "metadata": {},
   "outputs": [],
   "source": [
    "source_path = \"https://old.reddit.com/search?q=singapore+bivalent\"\n",
    "url_list = scrape_url(source_path)"
   ]
  },
  {
   "cell_type": "code",
   "execution_count": 3,
   "metadata": {},
   "outputs": [
    {
     "name": "stderr",
     "output_type": "stream",
     "text": [
      "Version 7.6.1 of praw is outdated. Version 7.7.0 was released Saturday February 25, 2023.\n"
     ]
    }
   ],
   "source": [
    "reddit = praw.Reddit(client_id='', \\\n",
    "                     client_secret='', \\\n",
    "                     user_agent='', \\\n",
    "                     username='', \\\n",
    "                     password='')"
   ]
  },
  {
   "cell_type": "code",
   "execution_count": 4,
   "metadata": {},
   "outputs": [],
   "source": [
    "topics_dict = { \"author\": [],\n",
    "                \"body\": [],\n",
    "                \"score\": [],\n",
    "                \"date\": [],\n",
    "                \"source\": []}"
   ]
  },
  {
   "cell_type": "code",
   "execution_count": 5,
   "metadata": {},
   "outputs": [],
   "source": [
    "def get_date(created):\n",
    "    original_date = dt.datetime.fromtimestamp(created)\n",
    "    formatted_date = original_date.strftime(\"%b %Y\")\n",
    "    return formatted_date"
   ]
  },
  {
   "cell_type": "code",
   "execution_count": 6,
   "metadata": {},
   "outputs": [],
   "source": [
    "def process_topic_data(submission):\n",
    "    comments = []\n",
    "    submission.comments.replace_more(limit=None)\n",
    "    for comment in submission.comments.list():\n",
    "        if comment.body != \"[removed]\":\n",
    "            timestamp = get_date(comment.created)\n",
    "            topics_dict[\"author\"].append(str(comment.author))\n",
    "            topics_dict[\"body\"].append(comment.body)\n",
    "            topics_dict[\"score\"].append(comment.score)\n",
    "            topics_dict[\"date\"].append(timestamp)\n",
    "            topics_dict[\"source\"].append(\"reddit\")\n",
    "    return comments"
   ]
  },
  {
   "cell_type": "code",
   "execution_count": 7,
   "metadata": {},
   "outputs": [],
   "source": [
    "for link in url_list:\n",
    "    submission = reddit.submission(url=link)\n",
    "    process_topic_data(submission)"
   ]
  },
  {
   "cell_type": "code",
   "execution_count": 8,
   "metadata": {},
   "outputs": [],
   "source": [
    "topics_data = pd.DataFrame(topics_dict)"
   ]
  },
  {
   "cell_type": "code",
   "execution_count": 9,
   "metadata": {},
   "outputs": [],
   "source": [
    "topics_data = topics_data.dropna()"
   ]
  },
  {
   "cell_type": "code",
   "execution_count": 10,
   "metadata": {
    "scrolled": true
   },
   "outputs": [],
   "source": [
    "topics_data.to_json(\"reddit.json\", orient='records')"
   ]
  },
  {
   "cell_type": "code",
   "execution_count": null,
   "metadata": {},
   "outputs": [],
   "source": []
  }
 ],
 "metadata": {
  "kernelspec": {
   "display_name": "Python 3",
   "language": "python",
   "name": "python3"
  },
  "language_info": {
   "codemirror_mode": {
    "name": "ipython",
    "version": 3
   },
   "file_extension": ".py",
   "mimetype": "text/x-python",
   "name": "python",
   "nbconvert_exporter": "python",
   "pygments_lexer": "ipython3",
   "version": "3.8.5"
  }
 },
 "nbformat": 4,
 "nbformat_minor": 2
}
