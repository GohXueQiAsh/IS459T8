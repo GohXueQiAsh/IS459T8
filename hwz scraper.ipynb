{
 "cells": [
  {
   "cell_type": "code",
   "execution_count": 20,
   "metadata": {},
   "outputs": [],
   "source": [
    "import json\n",
    "import pandas as pd\n",
    "import os.path\n",
    "from scrapingbee import ScrapingBeeClient\n",
    "from bs4 import BeautifulSoup\n",
    "import time\n",
    "from urllib.request import Request, urlopen\n",
    "from selenium import webdriver\n",
    "from selenium.webdriver.common.keys import Keys\n",
    "import pandas as pd\n",
    "from selenium.webdriver.common.by import By\n",
    "from selenium.webdriver.chrome.service import Service\n",
    "from webdriver_manager.chrome import ChromeDriverManager\n",
    "\n",
    "import requests\n",
    "from bs4 import BeautifulSoup\n",
    "from bs4 import NavigableString, Tag\n",
    "import datetime as dt\n",
    "import re\n",
    "import pandas as pd\n",
    "import numpy as np"
   ]
  },
  {
   "cell_type": "code",
   "execution_count": 31,
   "metadata": {},
   "outputs": [],
   "source": [
    "dfs = []\n",
    "links = []\n",
    "count = 1"
   ]
  },
  {
   "cell_type": "code",
   "execution_count": 32,
   "metadata": {},
   "outputs": [],
   "source": [
    "chrome_options = webdriver.ChromeOptions()\n",
    "chrome_options.add_argument('--headless')\n",
    "chrome_options.add_argument('--no-sandbox')\n",
    "chrome_options.add_argument('--disable-dev-shm-usage')"
   ]
  },
  {
   "cell_type": "code",
   "execution_count": 33,
   "metadata": {},
   "outputs": [],
   "source": [
    "options = webdriver.ChromeOptions()\n",
    "options.add_experimental_option('excludeSwitches', ['enable-logging'])\n",
    "\n",
    "driver = webdriver.Chrome(service=Service(\n",
    "    executable_path=ChromeDriverManager().install()), options=options)\n",
    "driver.get('https://www.hardwarezone.com.sg/search/forum/Bivalent')"
   ]
  },
  {
   "cell_type": "code",
   "execution_count": null,
   "metadata": {},
   "outputs": [],
   "source": [
    "while count <= 10:\n",
    "    time.sleep(2)\n",
    "    resultBoxElement = driver.find_element(\n",
    "        By.CLASS_NAME, 'gsc-resultsbox-visible')\n",
    "    URLtitle = resultBoxElement.find_elements(By.CLASS_NAME, 'gs-title')\n",
    "    for x in URLtitle:\n",
    "        link = x.get_attribute('data-ctorig')\n",
    "        if link != None:\n",
    "            links.append(link)\n",
    "    count = count + 1\n",
    "    if count <= 10:\n",
    "        driver.find_element(\n",
    "            By.XPATH, '//*[@id=\"___gcse_0\"]/div/div/div/div[5]/div[2]/div/div/div[2]/div/div['+str(count)+']').click()\n"
   ]
  },
  {
   "cell_type": "code",
   "execution_count": null,
   "metadata": {
    "scrolled": true
   },
   "outputs": [],
   "source": [
    "links = list(dict.fromkeys(links))\n",
    "print(links)"
   ]
  },
  {
   "cell_type": "code",
   "execution_count": 21,
   "metadata": {},
   "outputs": [],
   "source": [
    "def scraper(discussion, url, firstPage):\n",
    "    #extract body text\n",
    "    comments = discussion.find(class_=\"message-body js-selectToQuote\")\n",
    "    s = comments.findAll(\"br\")\n",
    "    threads = discussion.find_all(class_=\"bbWrapper\")\n",
    "    for posts in threads:\n",
    "        text = \"\"\n",
    "        if posts.find(\"br\") == None:\n",
    "            text = posts.text\n",
    "\n",
    "        else:\n",
    "            stringified = str(posts)\n",
    "            if ('class=\"bbCodeBlock-sourceJump\"' in stringified):\n",
    "\n",
    "                if(stringified[23:34] != \"<blockquote\"):\n",
    "\n",
    "                    start = stringified.find('bbWrapper\">')\n",
    "                    end = stringified.find('<br/>')\n",
    "                    text = stringified[start + 11:end]\n",
    "            for br in posts:\n",
    "                next_s = br.nextSibling\n",
    "                if not (next_s and isinstance(next_s,NavigableString)):\n",
    "                    continue\n",
    "                next2_s = next_s.nextSibling\n",
    "                if next2_s and isinstance(next2_s,Tag) and next2_s.name == 'br':\n",
    "                    text += str(next_s).strip() + \" \"\n",
    "                else:\n",
    "                    text += str(next_s).strip()\n",
    "\n",
    "        if(\"Click to expand...\" in text):\n",
    "            text = str(text)[str(text).find(\"Click to expand...\") + 18:]\n",
    "        text = text.strip()\n",
    "        data_dictionary[\"body\"].append(text)\n",
    "\n",
    "    #extract author and thread \n",
    "    usernames = discussion.find_all(class_=\"message-name\")\n",
    "    for username in usernames:\n",
    "        if username.string[0] != \"@\":\n",
    "            if(username.text[0] != \" \"):\n",
    "                data_dictionary[\"author\"].append(username.string)\n",
    "\n",
    "    #extract reaction score\n",
    "    profiles = discussion.find_all(class_=\"message-userExtras\")\n",
    "    for profile in profiles:\n",
    "        s = profile.find_all(class_={\"pairs pairs--justified\"})\n",
    "        data_dictionary[\"score\"].append(s[2].find(\"dd\").text)\n",
    "        data_dictionary[\"source\"].append(\"hwz\")\n",
    "\n",
    "    #extract the dates\n",
    "    date_body = discussion.find_all(class_=\"message-attribution-main listInline\")\n",
    "    date = 0\n",
    "    for date_message in date_body:\n",
    "        extracted_date = date_message.find(class_=\"u-dt\")\n",
    "        if extracted_date == None:\n",
    "            data_dictionary[\"date\"].append(date)\n",
    "        else:    \n",
    "            date_obj = dt.datetime.strptime(extracted_date.text, '%b %d, %Y')\n",
    "            formatted_date = date_obj.strftime('%b %Y')\n",
    "            data_dictionary[\"date\"].append(formatted_date)\n",
    "            \n",
    "    return"
   ]
  },
  {
   "cell_type": "code",
   "execution_count": 22,
   "metadata": {},
   "outputs": [],
   "source": [
    "data_dictionary = { \"author\" : [], \"body\" : [], \"score\" : [], \"date\" : [], \"source\":[]}\n",
    "\n",
    "def scrape_threads(list):\n",
    "    for url in list:\n",
    "        page = requests.get(url)\n",
    "        soup = BeautifulSoup(page.content, \"html.parser\")\n",
    "        count = 0\n",
    "        firstPage = True\n",
    "        if(soup.find(class_=\"pageNav-jump pageNav-jump--next\") == None):\n",
    "            if (soup.find(\"div\",class_ = \"block-body js-replyNewMessageContainer\") != None):\n",
    "                discussion = soup.find(\"div\",class_ = \"block-body js-replyNewMessageContainer\")\n",
    "                scraper(discussion, url, firstPage)\n",
    "\n",
    "        while((soup.find(class_=\"pageNav-jump pageNav-jump--next\")) != None):\n",
    "            page = requests.get(url)\n",
    "            soup = BeautifulSoup(page.content, \"html.parser\")\n",
    "            discussion = soup.find(\"div\",class_ = \"block-body js-replyNewMessageContainer\")            \n",
    "            scraper(discussion, url, firstPage)\n",
    "            firstPage = False\n",
    "            \n",
    "            #next page\n",
    "            if(soup.find(class_=\"pageNav-jump pageNav-jump--next\") != None):\n",
    "                url = \"https://forums.hardwarezone.com.sg/\" + soup.find(class_=\"pageNav-jump pageNav-jump--next\")[\"href\"]\n",
    "            count += 1\n",
    "                    \n",
    "    return data_dictionary"
   ]
  },
  {
   "cell_type": "code",
   "execution_count": 23,
   "metadata": {},
   "outputs": [],
   "source": [
    "hwz_dict = scrape_threads(links)"
   ]
  },
  {
   "cell_type": "code",
   "execution_count": 24,
   "metadata": {},
   "outputs": [],
   "source": [
    "hwz_df = pd.DataFrame.from_dict(hwz_dict)\n",
    "hwz_df['body'] = hwz_df['body'].replace('', np.nan)\n",
    "hwz_df = hwz_df.dropna()"
   ]
  },
  {
   "cell_type": "code",
   "execution_count": 25,
   "metadata": {
    "scrolled": true
   },
   "outputs": [
    {
     "data": {
      "text/html": [
       "<div>\n",
       "<style scoped>\n",
       "    .dataframe tbody tr th:only-of-type {\n",
       "        vertical-align: middle;\n",
       "    }\n",
       "\n",
       "    .dataframe tbody tr th {\n",
       "        vertical-align: top;\n",
       "    }\n",
       "\n",
       "    .dataframe thead th {\n",
       "        text-align: right;\n",
       "    }\n",
       "</style>\n",
       "<table border=\"1\" class=\"dataframe\">\n",
       "  <thead>\n",
       "    <tr style=\"text-align: right;\">\n",
       "      <th></th>\n",
       "      <th>author</th>\n",
       "      <th>body</th>\n",
       "      <th>score</th>\n",
       "      <th>date</th>\n",
       "      <th>source</th>\n",
       "    </tr>\n",
       "  </thead>\n",
       "  <tbody>\n",
       "    <tr>\n",
       "      <th>2</th>\n",
       "      <td>DeadmanINC</td>\n",
       "      <td>standby wait for sms</td>\n",
       "      <td>337</td>\n",
       "      <td>Nov 2022</td>\n",
       "      <td>hwz</td>\n",
       "    </tr>\n",
       "    <tr>\n",
       "      <th>3</th>\n",
       "      <td>Irenicis</td>\n",
       "      <td>If don't take this one, would we be considered...</td>\n",
       "      <td>39</td>\n",
       "      <td>Nov 2022</td>\n",
       "      <td>hwz</td>\n",
       "    </tr>\n",
       "    <tr>\n",
       "      <th>4</th>\n",
       "      <td>yperic</td>\n",
       "      <td>\"In particular, those who have yet to complete...</td>\n",
       "      <td>8,255</td>\n",
       "      <td>Nov 2022</td>\n",
       "      <td>hwz</td>\n",
       "    </tr>\n",
       "    <tr>\n",
       "      <th>5</th>\n",
       "      <td>elimmel</td>\n",
       "      <td>,\" said MOH.  wah this statement... means soon...</td>\n",
       "      <td>3,218</td>\n",
       "      <td>Nov 2022</td>\n",
       "      <td>hwz</td>\n",
       "    </tr>\n",
       "    <tr>\n",
       "      <th>6</th>\n",
       "      <td>starry_starry_night</td>\n",
       "      <td>I thought Endemic? Why still need meh meh pak?</td>\n",
       "      <td>6,550</td>\n",
       "      <td>Nov 2022</td>\n",
       "      <td>hwz</td>\n",
       "    </tr>\n",
       "  </tbody>\n",
       "</table>\n",
       "</div>"
      ],
      "text/plain": [
       "                author                                               body  \\\n",
       "2           DeadmanINC                               standby wait for sms   \n",
       "3             Irenicis  If don't take this one, would we be considered...   \n",
       "4               yperic  \"In particular, those who have yet to complete...   \n",
       "5              elimmel  ,\" said MOH.  wah this statement... means soon...   \n",
       "6  starry_starry_night     I thought Endemic? Why still need meh meh pak?   \n",
       "\n",
       "   score      date source  \n",
       "2    337  Nov 2022    hwz  \n",
       "3     39  Nov 2022    hwz  \n",
       "4  8,255  Nov 2022    hwz  \n",
       "5  3,218  Nov 2022    hwz  \n",
       "6  6,550  Nov 2022    hwz  "
      ]
     },
     "execution_count": 25,
     "metadata": {},
     "output_type": "execute_result"
    }
   ],
   "source": [
    "hwz_df.head()"
   ]
  },
  {
   "cell_type": "code",
   "execution_count": 26,
   "metadata": {},
   "outputs": [],
   "source": [
    "hwz_df.to_json(\"hwz.json\",orient='records')"
   ]
  },
  {
   "cell_type": "code",
   "execution_count": null,
   "metadata": {},
   "outputs": [],
   "source": []
  }
 ],
 "metadata": {
  "kernelspec": {
   "display_name": "Python 3",
   "language": "python",
   "name": "python3"
  },
  "language_info": {
   "codemirror_mode": {
    "name": "ipython",
    "version": 3
   },
   "file_extension": ".py",
   "mimetype": "text/x-python",
   "name": "python",
   "nbconvert_exporter": "python",
   "pygments_lexer": "ipython3",
   "version": "3.8.5"
  }
 },
 "nbformat": 4,
 "nbformat_minor": 2
}
