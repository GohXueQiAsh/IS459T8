{
 "cells": [
  {
   "cell_type": "code",
   "execution_count": 1,
   "metadata": {},
   "outputs": [],
   "source": [
    "import json\n",
    "import pandas as pd\n",
    "import os.path\n",
    "from scrapingbee import ScrapingBeeClient\n",
    "from bs4 import BeautifulSoup\n",
    "import time\n",
    "from urllib.request import Request, urlopen\n",
    "from selenium import webdriver\n",
    "from selenium.webdriver.common.keys import Keys\n",
    "import pandas as pd\n",
    "from selenium.webdriver.common.by import By\n",
    "from selenium.webdriver.chrome.service import Service\n",
    "from webdriver_manager.chrome import ChromeDriverManager\n",
    "\n",
    "import requests\n",
    "from bs4 import BeautifulSoup\n",
    "from bs4 import NavigableString, Tag\n",
    "import datetime as dt\n",
    "import re\n",
    "import pandas as pd\n",
    "import numpy as np"
   ]
  },
  {
   "cell_type": "code",
   "execution_count": 98,
   "metadata": {},
   "outputs": [],
   "source": [
    "dfs = []\n",
    "links = []\n",
    "count = 1"
   ]
  },
  {
   "cell_type": "code",
   "execution_count": 99,
   "metadata": {},
   "outputs": [],
   "source": [
    "chrome_options = webdriver.ChromeOptions()\n",
    "chrome_options.add_argument('--headless')\n",
    "chrome_options.add_argument('--no-sandbox')\n",
    "chrome_options.add_argument('--disable-dev-shm-usage')"
   ]
  },
  {
   "cell_type": "code",
   "execution_count": 100,
   "metadata": {},
   "outputs": [],
   "source": [
    "options = webdriver.ChromeOptions()\n",
    "options.add_experimental_option('excludeSwitches', ['enable-logging'])\n",
    "\n",
    "driver = webdriver.Chrome(service=Service(\n",
    "    executable_path=ChromeDriverManager().install()), options=options)\n",
    "driver.get('https://www.hardwarezone.com.sg/search/forum/Bivalent')"
   ]
  },
  {
   "cell_type": "code",
   "execution_count": 101,
   "metadata": {},
   "outputs": [
    {
     "name": "stderr",
     "output_type": "stream",
     "text": [
      "<ipython-input-101-ddaf133bff14>:6: DeprecationWarning: find_element_by_* commands are deprecated. Please use find_element() instead\n",
      "  date = driver.find_element_by_xpath(\"//div[@class='gsc-option-menu-container gsc-inline-block']//div[text()='Date']\")\n"
     ]
    }
   ],
   "source": [
    "while count <= 10:\n",
    "    time.sleep(2)\n",
    "    if count == 1:\n",
    "        driver.find_element(By.CLASS_NAME, \"gsc-option-menu-container\").click()\n",
    "        time.sleep(2)\n",
    "        #sort by date\n",
    "        driver.find_element_by_xpath(\"//div[@class='gsc-option-menu-container gsc-inline-block']//div[text()='Date']\").click()\n",
    "        #sort by relevance\n",
    "#       driver.find_element_by_xpath(\"//div[@class='gsc-option-menu-container gsc-inline-block']//div[text()='Relevance']\").click()\n",
    "        time.sleep(2)\n",
    "\n",
    "    resultBoxElement = driver.find_element(\n",
    "        By.CLASS_NAME, 'gsc-resultsbox-visible')\n",
    "    URLtitle = resultBoxElement.find_elements(By.CLASS_NAME, 'gs-title')\n",
    "    for x in URLtitle:\n",
    "        link = x.get_attribute('data-ctorig')\n",
    "        if link != None:\n",
    "            links.append(link)\n",
    "    count = count + 1\n",
    "    if count <= 10:\n",
    "        driver.find_element(\n",
    "            By.XPATH, '//*[@id=\"___gcse_0\"]/div/div/div/div[5]/div[2]/div/div/div[2]/div/div['+str(count)+']').click()\n"
   ]
  },
  {
   "cell_type": "code",
   "execution_count": 102,
   "metadata": {
    "scrolled": true
   },
   "outputs": [
    {
     "name": "stdout",
     "output_type": "stream",
     "text": [
      "['https://forums.hardwarezone.com.sg/threads/covid-most-infectious-variant-xbb-1-16-is-in-singapore.6889025/page-2', 'https://forums.hardwarezone.com.sg/threads/covid-cases-increased-by-234-compared-to-previous-epi-week.6884070/page-3', 'https://forums.hardwarezone.com.sg/threads/630pm-ch8-news-highlight-covid-positive-jump-4x.6875959/page-4', 'https://forums.hardwarezone.com.sg/threads/first-person-that-died-from-covid-vaccination-deemed-medical-misadventure-moh.6873952/page-7', 'https://forums.hardwarezone.com.sg/threads/suddenly-very-giddy.6872431/page-3', 'https://forums.hardwarezone.com.sg/threads/so-far-20-medical-staff-have-suffered-serious-adverse-reactions-after-being-vaccinated-against-the-new-covid-virus.6870780/page-2', 'https://forums.hardwarezone.com.sg/threads/gvgt-new-zealand-study-pfizers-mrna-vaccine-statistically-significant-link-to-myocarditis.6866032/page-14', 'https://forums.hardwarezone.com.sg/threads/gsgt-thailand-may-nullify-pfizer-contracts-after-thai-princess-collapses-post-vaccination.6869580/page-2', 'https://forums.hardwarezone.com.sg/threads/mans-death-after-playing-golf-not-due-to-covid-19-booster-taken-three-weeks-before-coroner.6868725/', 'https://forums.hardwarezone.com.sg/threads/adverse-effects-rare-after-bivalent-covid-19-vaccine-jabs-hsa-report.6868384/', 'https://forums.hardwarezone.com.sg/threads/gpgt-wlwl-sg-up-to-date-vaccination-now-only-60.6855786/page-16', 'https://forums.hardwarezone.com.sg/threads/gpgt-anyone-going-later-can-meet-oyk.6866267/page-2', 'https://forums.hardwarezone.com.sg/threads/gpgt-anyone-going-later-can-meet-oyk.6866267/', 'https://forums.hardwarezone.com.sg/threads/us-fda-proposes-shift-to-annual-covid-19-vaccine-shots.6865063/page-3', 'https://forums.hardwarezone.com.sg/threads/gpgt-wlwl-sg-up-to-date-vaccination-now-only-60.6855786/page-14', 'https://forums.hardwarezone.com.sg/threads/u-s-says-pfizers-bivalent-covid-shot-may-be-linked-to-stroke-in-older-adults.6861221/page-3', 'https://forums.hardwarezone.com.sg/threads/why-cant-some-people-be-happy-for-you.6864657/page-3', 'https://forums.hardwarezone.com.sg/threads/how-your-first-brush-with-covid-warps-your-immunity.6863596/page-2', 'https://forums.hardwarezone.com.sg/threads/why-got-some-people-never-take-covid-vaccine-but-still-feel-proud-about-it.6862994/page-4', 'https://forums.hardwarezone.com.sg/threads/mrna-bivalent-vaccines-efficacy-against-latest-xbb-1-5-variant.6862815/page-2', 'https://forums.hardwarezone.com.sg/threads/breaking-korean-instant-noodles-found-to-have-pesticide.6862838/page-3', 'https://forums.hardwarezone.com.sg/threads/mrna-bivalent-vaccines-efficacy-against-latest-xbb-1-5-variant.6862815/', 'https://forums.hardwarezone.com.sg/threads/glgt-sg-vaccine-narrative-change-liao-3-mrna-vaccine-shots-enough-to-keep-healthy-people-well-protected-even-for-new-covid-19-variants.6862005/page-13', 'https://forums.hardwarezone.com.sg/threads/why-moh-keep-sending-me-sms-to-take-extra-shots-got-3-shots-of-pfizer-aldy.6862338/page-2', 'https://forums.hardwarezone.com.sg/threads/no-increase-in-demand-for-covid-19-vaccines-from-visitors-private-patients-moh.6862551/', 'https://forums.hardwarezone.com.sg/threads/i-cant-believe-people-are-still-jabbing-for-no-reason.6862040/page-11', 'https://forums.hardwarezone.com.sg/threads/i-cant-believe-people-are-still-jabbing-for-no-reason.6862040/page-6', 'https://forums.hardwarezone.com.sg/threads/glgt-sg-vaccine-narrative-change-liao-3-mrna-vaccine-shots-enough-to-keep-healthy-people-well-protected-even-for-new-covid-19-variants.6862005/page-9', 'https://forums.hardwarezone.com.sg/threads/u-s-says-pfizers-bivalent-covid-shot-may-be-linked-to-stroke-in-older-adults.6861221/page-2', 'https://forums.hardwarezone.com.sg/threads/singapore-data-for-bivalent-covid-19-vaccines-does-not-show-increased-risk-of-stroke-moh.6861552/page-10', 'https://forums.hardwarezone.com.sg/threads/singapore-data-for-bivalent-covid-19-vaccines-does-not-show-increased-risk-of-stroke-moh.6861552/page-7', 'https://forums.hardwarezone.com.sg/threads/singapore-data-for-bivalent-covid-19-vaccines-does-not-show-increased-risk-of-stroke-moh.6861552/page-11', 'https://forums.hardwarezone.com.sg/threads/singapore-data-for-bivalent-covid-19-vaccines-does-not-show-increased-risk-of-stroke-moh.6861552/page-6', 'https://forums.hardwarezone.com.sg/threads/flip-prata-on-covid-from-the-news.6861446/page-2', 'https://forums.hardwarezone.com.sg/threads/singapore-data-for-bivalent-covid-19-vaccines-does-not-show-increased-risk-of-stroke-moh.6861552/page-2', 'https://forums.hardwarezone.com.sg/threads/singapore-data-for-bivalent-covid-19-vaccines-does-not-show-increased-risk-of-stroke-moh.6861552/', 'https://forums.hardwarezone.com.sg/threads/flip-prata-on-covid-from-the-news.6861446/page-4', 'https://forums.hardwarezone.com.sg/threads/u-s-fda-cdc-see-early-signal-of-pfizer-bivalent-covid-shots-link-to-stroke-reuters.6861322/', 'https://forums.hardwarezone.com.sg/threads/singapore-data-for-bivalent-covid-19-vaccines-does-not-show-increased-risk-of-stroke-moh.6861552/page-4', 'https://forums.hardwarezone.com.sg/threads/flip-prata-on-covid-from-the-news.6861446/', 'https://forums.hardwarezone.com.sg/threads/flip-prata-on-covid-from-the-news.6861446/page-5', 'https://forums.hardwarezone.com.sg/threads/singapore-data-for-bivalent-covid-19-vaccines-does-not-show-increased-risk-of-stroke-moh.6861552/page-3', 'https://forums.hardwarezone.com.sg/threads/flip-prata-on-covid-from-the-news.6861446/page-3', 'https://forums.hardwarezone.com.sg/threads/omg-us-sees-early-signal-of-pfizer-bivalent-covid-19-shots-link-to-stroke.6861239/page-4', 'https://forums.hardwarezone.com.sg/threads/u-s-says-pfizers-bivalent-covid-shot-may-be-linked-to-stroke-in-older-adults.6861221/', 'https://forums.hardwarezone.com.sg/threads/omg-us-sees-early-signal-of-pfizer-bivalent-covid-19-shots-link-to-stroke.6861239/page-2', 'https://forums.hardwarezone.com.sg/threads/gpgt-wlwl-sg-up-to-date-vaccination-now-only-60.6855786/page-12', 'https://forums.hardwarezone.com.sg/threads/if-youre-young-and-fit-will-you-take-the-bivalent-jab.6861053/page-2', 'https://forums.hardwarezone.com.sg/threads/dailymail-fda-and-cdc-advisors-accuse-moderna-of-withholding-trial-data-that-suggested-its-covid-bivalent-booster-was-less-effective-than-older-shot.6860916/', 'https://forums.hardwarezone.com.sg/threads/if-youre-young-and-fit-will-you-take-the-bivalent-jab.6861053/', 'https://forums.hardwarezone.com.sg/threads/moh-sms-invite-moi.6860720/', 'https://forums.hardwarezone.com.sg/threads/moh-sms-invite-moi.6860720/page-2', 'https://forums.hardwarezone.com.sg/threads/moh-sms-invite-moi.6860720/page-3', 'https://forums.hardwarezone.com.sg/threads/chit-chat-with-mommy.6606184/page-18908', 'https://forums.hardwarezone.com.sg/threads/serious-i-have-heart-palpitation-after-28-dec-bivalent-hootz.6859670/page-8', 'https://forums.hardwarezone.com.sg/threads/singapore-actor-timothy-nga-dies-aged-49.6859968/page-6', 'https://forums.hardwarezone.com.sg/threads/experts-give-thumbs-up-to-pap-the-evidence-of-singapores-preparedness-efforts-is-clear.6859928/', 'https://forums.hardwarezone.com.sg/threads/serious-i-have-heart-palpitation-after-28-dec-bivalent-hootz.6859670/page-3', 'https://forums.hardwarezone.com.sg/threads/latest-ong-ye-kung-explains-that-we-cannot-jump-at-every-sub-variant-no-matter-how-sexy-the-name-sounds-how-come-his-analogy-like-very-chim-one.6859613/page-3', 'https://forums.hardwarezone.com.sg/threads/17-flights-from-china-arriving-singapore-these-2-days-i-better-go-take-bivalent.6859550/page-2', 'https://forums.hardwarezone.com.sg/threads/serious-i-have-heart-palpitation-after-28-dec-bivalent-hootz.6859670/page-7', 'https://forums.hardwarezone.com.sg/threads/serious-i-have-heart-palpitation-after-28-dec-bivalent-hootz.6859670/', 'https://forums.hardwarezone.com.sg/threads/serious-i-have-heart-palpitation-after-28-dec-bivalent-hootz.6859670/page-4', 'https://forums.hardwarezone.com.sg/threads/17-flights-from-china-arriving-singapore-these-2-days-i-better-go-take-bivalent.6859550/page-6', 'https://forums.hardwarezone.com.sg/threads/17-flights-from-china-arriving-singapore-these-2-days-i-better-go-take-bivalent.6859550/page-3', 'https://forums.hardwarezone.com.sg/threads/17-flights-from-china-arriving-singapore-these-2-days-i-better-go-take-bivalent.6859550/', 'https://forums.hardwarezone.com.sg/threads/serious-i-have-heart-palpitation-after-28-dec-bivalent-hootz.6859670/page-6', 'https://forums.hardwarezone.com.sg/threads/breaking-lhl-took-his-4th-vaccine.6858754/page-4', 'https://forums.hardwarezone.com.sg/threads/breaking-lhl-took-his-4th-vaccine.6858754/page-6', 'https://forums.hardwarezone.com.sg/threads/breaking-lhl-took-his-4th-vaccine.6858754/page-8', 'https://forums.hardwarezone.com.sg/threads/here-comes-xbb-1-5-variant-most-infectious.6853258/page-8', 'https://forums.hardwarezone.com.sg/threads/malaysia-prepared-to-impose-stricter-border-measures-amid-covid-19-outbreak-in-china.6856882/', 'https://forums.hardwarezone.com.sg/threads/how-long-after-getting-covid-can-we-go-take-the-bivalent-booster-shot.6856581/', 'https://forums.hardwarezone.com.sg/threads/st-covid-19-variants-in-china-also-detected-in-malaysia.6856806/', 'https://forums.hardwarezone.com.sg/threads/covid-19-deaths-years-2020-2022.6856248/', 'https://forums.hardwarezone.com.sg/threads/over-586-000-people-have-taken-a-bivalent-covid-19-jab-moh.6856400/', 'https://forums.hardwarezone.com.sg/threads/everyone-please-go-pak-zam-now.6855595/page-2', 'https://forums.hardwarezone.com.sg/threads/omicron-ba5-variant-will-attack-the-brain.6854684/page-4', 'https://forums.hardwarezone.com.sg/threads/just-leeceived-moh-sms-inviting-me-to-jab-some-more-booster.6855432/', 'https://forums.hardwarezone.com.sg/threads/calls-to-make-mainland-china-visitors-in-hk-pay-for-covid-jabs-after-online-posts-detail-ways-to-get-free-shots-in-city.6854202/', 'https://forums.hardwarezone.com.sg/threads/here-comes-xbb-1-5-variant-most-infectious.6853258/page-5', 'https://forums.hardwarezone.com.sg/threads/song-sia-first-sq-flight-to-beijing-this-fri-more-to-come.6853654/page-2', 'https://forums.hardwarezone.com.sg/threads/jab-5-times-still-tio-covid.6853477/page-2', 'https://forums.hardwarezone.com.sg/threads/i-love-my-father.6853300/', 'https://forums.hardwarezone.com.sg/threads/gotten-my-4th-vaccine-jab-morning-now-the-suffering-kicks-in.6852335/', 'https://forums.hardwarezone.com.sg/threads/gotten-my-4th-vaccine-jab-morning-now-the-suffering-kicks-in.6852335/page-3', 'https://forums.hardwarezone.com.sg/threads/moi-atb-corlick-want-to-fly-their-parents-out-to-sg-to-take-pfizer.6850785/', 'https://forums.hardwarezone.com.sg/threads/2nd-booster-shot-side-effect-is-it-very-gao-lat.6849721/page-2', 'https://forums.hardwarezone.com.sg/threads/ama-took-my-pfizer-bivalant-the-bestest-2nd-booster-in-sg.6849981/', 'https://forums.hardwarezone.com.sg/threads/ama-took-my-pfizer-bivalant-the-bestest-2nd-booster-in-sg.6849981/page-3']\n"
     ]
    }
   ],
   "source": [
    "links = list(dict.fromkeys(links))\n",
    "links = list(set(links))\n",
    "print(links)"
   ]
  },
  {
   "cell_type": "code",
   "execution_count": 21,
   "metadata": {},
   "outputs": [],
   "source": [
    "def scraper(discussion, url, firstPage):\n",
    "    #extract body text\n",
    "    comments = discussion.find(class_=\"message-body js-selectToQuote\")\n",
    "    s = comments.findAll(\"br\")\n",
    "    threads = discussion.find_all(class_=\"bbWrapper\")\n",
    "    for posts in threads:\n",
    "        text = \"\"\n",
    "        if posts.find(\"br\") == None:\n",
    "            text = posts.text\n",
    "\n",
    "        else:\n",
    "            stringified = str(posts)\n",
    "            if ('class=\"bbCodeBlock-sourceJump\"' in stringified):\n",
    "\n",
    "                if(stringified[23:34] != \"<blockquote\"):\n",
    "\n",
    "                    start = stringified.find('bbWrapper\">')\n",
    "                    end = stringified.find('<br/>')\n",
    "                    text = stringified[start + 11:end]\n",
    "            for br in posts:\n",
    "                next_s = br.nextSibling\n",
    "                if not (next_s and isinstance(next_s,NavigableString)):\n",
    "                    continue\n",
    "                next2_s = next_s.nextSibling\n",
    "                if next2_s and isinstance(next2_s,Tag) and next2_s.name == 'br':\n",
    "                    text += str(next_s).strip() + \" \"\n",
    "                else:\n",
    "                    text += str(next_s).strip()\n",
    "\n",
    "        if(\"Click to expand...\" in text):\n",
    "            text = str(text)[str(text).find(\"Click to expand...\") + 18:]\n",
    "        text = text.strip()\n",
    "        data_dictionary[\"body\"].append(text)\n",
    "\n",
    "    #extract author and thread \n",
    "    usernames = discussion.find_all(class_=\"message-name\")\n",
    "    for username in usernames:\n",
    "        if username.string[0] != \"@\":\n",
    "            if(username.text[0] != \" \"):\n",
    "                data_dictionary[\"author\"].append(username.string)\n",
    "\n",
    "    #extract reaction score\n",
    "    profiles = discussion.find_all(class_=\"message-userExtras\")\n",
    "    for profile in profiles:\n",
    "        s = profile.find_all(class_={\"pairs pairs--justified\"})\n",
    "        data_dictionary[\"score\"].append(s[2].find(\"dd\").text)\n",
    "        data_dictionary[\"source\"].append(\"hwz\")\n",
    "\n",
    "    #extract the dates\n",
    "    date_body = discussion.find_all(class_=\"message-attribution-main listInline\")\n",
    "    date = 0\n",
    "    for date_message in date_body:\n",
    "        extracted_date = date_message.find(class_=\"u-dt\")\n",
    "        if extracted_date == None:\n",
    "            data_dictionary[\"date\"].append(date)\n",
    "        else:    \n",
    "            date_obj = dt.datetime.strptime(extracted_date.text, '%b %d, %Y')\n",
    "            formatted_date = date_obj.strftime('%b %Y')\n",
    "            data_dictionary[\"date\"].append(formatted_date)\n",
    "            \n",
    "    return"
   ]
  },
  {
   "cell_type": "code",
   "execution_count": 22,
   "metadata": {},
   "outputs": [],
   "source": [
    "data_dictionary = { \"author\" : [], \"body\" : [], \"score\" : [], \"date\" : [], \"source\":[]}\n",
    "\n",
    "def scrape_threads(list):\n",
    "    for url in list:\n",
    "        page = requests.get(url)\n",
    "        soup = BeautifulSoup(page.content, \"html.parser\")\n",
    "        count = 0\n",
    "        firstPage = True\n",
    "        if(soup.find(class_=\"pageNav-jump pageNav-jump--next\") == None):\n",
    "            if (soup.find(\"div\",class_ = \"block-body js-replyNewMessageContainer\") != None):\n",
    "                discussion = soup.find(\"div\",class_ = \"block-body js-replyNewMessageContainer\")\n",
    "                scraper(discussion, url, firstPage)\n",
    "\n",
    "        while((soup.find(class_=\"pageNav-jump pageNav-jump--next\")) != None):\n",
    "            page = requests.get(url)\n",
    "            soup = BeautifulSoup(page.content, \"html.parser\")\n",
    "            discussion = soup.find(\"div\",class_ = \"block-body js-replyNewMessageContainer\")            \n",
    "            scraper(discussion, url, firstPage)\n",
    "            firstPage = False\n",
    "            \n",
    "            #next page\n",
    "            if(soup.find(class_=\"pageNav-jump pageNav-jump--next\") != None):\n",
    "                url = \"https://forums.hardwarezone.com.sg/\" + soup.find(class_=\"pageNav-jump pageNav-jump--next\")[\"href\"]\n",
    "            count += 1\n",
    "                    \n",
    "    return data_dictionary"
   ]
  },
  {
   "cell_type": "code",
   "execution_count": 23,
   "metadata": {},
   "outputs": [],
   "source": [
    "hwz_dict = scrape_threads(links)"
   ]
  },
  {
   "cell_type": "code",
   "execution_count": 24,
   "metadata": {},
   "outputs": [],
   "source": [
    "hwz_df = pd.DataFrame.from_dict(hwz_dict)\n",
    "hwz_df['body'] = hwz_df['body'].replace('', np.nan)\n",
    "hwz_df = hwz_df.dropna()"
   ]
  },
  {
   "cell_type": "code",
   "execution_count": 25,
   "metadata": {
    "scrolled": true
   },
   "outputs": [
    {
     "data": {
      "text/html": [
       "<div>\n",
       "<style scoped>\n",
       "    .dataframe tbody tr th:only-of-type {\n",
       "        vertical-align: middle;\n",
       "    }\n",
       "\n",
       "    .dataframe tbody tr th {\n",
       "        vertical-align: top;\n",
       "    }\n",
       "\n",
       "    .dataframe thead th {\n",
       "        text-align: right;\n",
       "    }\n",
       "</style>\n",
       "<table border=\"1\" class=\"dataframe\">\n",
       "  <thead>\n",
       "    <tr style=\"text-align: right;\">\n",
       "      <th></th>\n",
       "      <th>author</th>\n",
       "      <th>body</th>\n",
       "      <th>score</th>\n",
       "      <th>date</th>\n",
       "      <th>source</th>\n",
       "    </tr>\n",
       "  </thead>\n",
       "  <tbody>\n",
       "    <tr>\n",
       "      <th>2</th>\n",
       "      <td>DeadmanINC</td>\n",
       "      <td>standby wait for sms</td>\n",
       "      <td>337</td>\n",
       "      <td>Nov 2022</td>\n",
       "      <td>hwz</td>\n",
       "    </tr>\n",
       "    <tr>\n",
       "      <th>3</th>\n",
       "      <td>Irenicis</td>\n",
       "      <td>If don't take this one, would we be considered...</td>\n",
       "      <td>39</td>\n",
       "      <td>Nov 2022</td>\n",
       "      <td>hwz</td>\n",
       "    </tr>\n",
       "    <tr>\n",
       "      <th>4</th>\n",
       "      <td>yperic</td>\n",
       "      <td>\"In particular, those who have yet to complete...</td>\n",
       "      <td>8,255</td>\n",
       "      <td>Nov 2022</td>\n",
       "      <td>hwz</td>\n",
       "    </tr>\n",
       "    <tr>\n",
       "      <th>5</th>\n",
       "      <td>elimmel</td>\n",
       "      <td>,\" said MOH.  wah this statement... means soon...</td>\n",
       "      <td>3,218</td>\n",
       "      <td>Nov 2022</td>\n",
       "      <td>hwz</td>\n",
       "    </tr>\n",
       "    <tr>\n",
       "      <th>6</th>\n",
       "      <td>starry_starry_night</td>\n",
       "      <td>I thought Endemic? Why still need meh meh pak?</td>\n",
       "      <td>6,550</td>\n",
       "      <td>Nov 2022</td>\n",
       "      <td>hwz</td>\n",
       "    </tr>\n",
       "  </tbody>\n",
       "</table>\n",
       "</div>"
      ],
      "text/plain": [
       "                author                                               body  \\\n",
       "2           DeadmanINC                               standby wait for sms   \n",
       "3             Irenicis  If don't take this one, would we be considered...   \n",
       "4               yperic  \"In particular, those who have yet to complete...   \n",
       "5              elimmel  ,\" said MOH.  wah this statement... means soon...   \n",
       "6  starry_starry_night     I thought Endemic? Why still need meh meh pak?   \n",
       "\n",
       "   score      date source  \n",
       "2    337  Nov 2022    hwz  \n",
       "3     39  Nov 2022    hwz  \n",
       "4  8,255  Nov 2022    hwz  \n",
       "5  3,218  Nov 2022    hwz  \n",
       "6  6,550  Nov 2022    hwz  "
      ]
     },
     "execution_count": 25,
     "metadata": {},
     "output_type": "execute_result"
    }
   ],
   "source": [
    "hwz_df.head()"
   ]
  },
  {
   "cell_type": "code",
   "execution_count": 26,
   "metadata": {},
   "outputs": [],
   "source": [
    "hwz_df.to_json(\"hwz.json\",orient='records')"
   ]
  },
  {
   "cell_type": "code",
   "execution_count": null,
   "metadata": {},
   "outputs": [],
   "source": []
  }
 ],
 "metadata": {
  "kernelspec": {
   "display_name": "Python 3",
   "language": "python",
   "name": "python3"
  },
  "language_info": {
   "codemirror_mode": {
    "name": "ipython",
    "version": 3
   },
   "file_extension": ".py",
   "mimetype": "text/x-python",
   "name": "python",
   "nbconvert_exporter": "python",
   "pygments_lexer": "ipython3",
   "version": "3.8.5"
  }
 },
 "nbformat": 4,
 "nbformat_minor": 2
}
