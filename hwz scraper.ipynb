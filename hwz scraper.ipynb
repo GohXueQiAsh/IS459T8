{
 "cells": [
  {
   "cell_type": "code",
   "execution_count": 1,
   "metadata": {},
   "outputs": [
    {
     "name": "stdout",
     "output_type": "stream",
     "text": [
      "Requirement already satisfied: scrapingbee in c:\\users\\jerald\\anaconda3\\lib\\site-packages (1.2.0)\n",
      "Requirement already satisfied: requests in c:\\users\\jerald\\anaconda3\\lib\\site-packages (from scrapingbee) (2.27.1)\n",
      "Requirement already satisfied: certifi>=2017.4.17 in c:\\users\\jerald\\anaconda3\\lib\\site-packages (from requests->scrapingbee) (2020.6.20)\n",
      "Requirement already satisfied: urllib3<1.27,>=1.21.1 in c:\\users\\jerald\\anaconda3\\lib\\site-packages (from requests->scrapingbee) (1.25.11)\n",
      "Requirement already satisfied: idna<4,>=2.5 in c:\\users\\jerald\\anaconda3\\lib\\site-packages (from requests->scrapingbee) (2.10)\n",
      "Requirement already satisfied: charset-normalizer~=2.0.0 in c:\\users\\jerald\\anaconda3\\lib\\site-packages (from requests->scrapingbee) (2.0.12)\n",
      "Note: you may need to restart the kernel to use updated packages.\n"
     ]
    },
    {
     "name": "stderr",
     "output_type": "stream",
     "text": [
      "WARNING: You are using pip version 22.0.4; however, version 23.0.1 is available.\n",
      "You should consider upgrading via the 'C:\\Users\\Jerald\\anaconda3\\python.exe -m pip install --upgrade pip' command.\n"
     ]
    }
   ],
   "source": [
    "pip install scrapingbee\n"
   ]
  },
  {
   "cell_type": "code",
   "execution_count": 2,
   "metadata": {},
   "outputs": [],
   "source": [
    "import json\n",
    "import pandas as pd\n",
    "import os.path\n",
    "from scrapingbee import ScrapingBeeClient\n",
    "from bs4 import BeautifulSoup\n",
    "import time\n",
    "from urllib.request import Request, urlopen\n",
    "from selenium import webdriver\n",
    "from selenium.webdriver.common.keys import Keys\n",
    "import pandas as pd\n",
    "from selenium.webdriver.common.by import By\n",
    "from selenium.webdriver.chrome.service import Service\n",
    "from webdriver_manager.chrome import ChromeDriverManager\n",
    "\n",
    "import requests\n",
    "from bs4 import BeautifulSoup\n",
    "from bs4 import NavigableString, Tag\n",
    "from nltk.stem import WordNetLemmatizer\n",
    "from nltk.stem import *\n",
    "from nltk.corpus import stopwords\n",
    "import re\n",
    "import pandas as pd\n",
    "import numpy as np"
   ]
  },
  {
   "cell_type": "code",
   "execution_count": 3,
   "metadata": {},
   "outputs": [],
   "source": [
    "dfs = []\n",
    "links = []\n",
    "count = 1"
   ]
  },
  {
   "cell_type": "code",
   "execution_count": 4,
   "metadata": {},
   "outputs": [],
   "source": [
    "options = webdriver.ChromeOptions()\n",
    "options.add_experimental_option('excludeSwitches', ['enable-logging'])\n",
    "\n",
    "driver = webdriver.Chrome(service=Service(\n",
    "    executable_path=ChromeDriverManager().install()), options=options)\n",
    "driver.get('https://www.hardwarezone.com.sg/search/forum/Bivalent')"
   ]
  },
  {
   "cell_type": "code",
   "execution_count": 5,
   "metadata": {},
   "outputs": [],
   "source": [
    "while count <= 10:\n",
    "    time.sleep(2)\n",
    "    resultBoxElement = driver.find_element(\n",
    "        By.CLASS_NAME, 'gsc-resultsbox-visible')\n",
    "    URLtitle = resultBoxElement.find_elements(By.CLASS_NAME, 'gs-title')\n",
    "    for x in URLtitle:\n",
    "        link = x.get_attribute('data-ctorig')\n",
    "        if link != None:\n",
    "            links.append(link)\n",
    "    count = count + 1\n",
    "    if count <= 10:\n",
    "        driver.find_element(\n",
    "            By.XPATH, '//*[@id=\"___gcse_0\"]/div/div/div/div[5]/div[2]/div/div/div[2]/div/div['+str(count)+']').click()\n",
    "\n"
   ]
  },
  {
   "cell_type": "code",
   "execution_count": 6,
   "metadata": {
    "scrolled": false
   },
   "outputs": [
    {
     "name": "stdout",
     "output_type": "stream",
     "text": [
      "['https://forums.hardwarezone.com.sg/threads/bivalent-covid-19-vaccination-for-18-49-age-group-to-be-rolled-out-from-nov-7.6831404/', 'https://forums.hardwarezone.com.sg/threads/moh-will-invite-people-aged-18-to-49-for-bivalent-vaccination-later-in-2022.6825082/', 'https://forums.hardwarezone.com.sg/threads/singapore-data-for-bivalent-covid-19-vaccines-does-not-show-increased-risk-of-stroke-moh.6861552/', 'https://forums.hardwarezone.com.sg/threads/modernas-bivalent-covid-19-booster-vaccine-in-spore-by-end-sept-pfizers-being-evaluated.6809768/', 'https://forums.hardwarezone.com.sg/threads/u-s-says-pfizers-bivalent-covid-shot-may-be-linked-to-stroke-in-older-adults.6861221/', 'https://forums.hardwarezone.com.sg/threads/omg-us-sees-early-signal-of-pfizer-bivalent-covid-19-shots-link-to-stroke.6861239/page-4', 'https://forums.hardwarezone.com.sg/threads/oyk-moderna-spikevax-bivalent-vaccine-same-safety-profile-as-original-dose.6820475/', 'https://forums.hardwarezone.com.sg/threads/omg-us-sees-early-signal-of-pfizer-bivalent-covid-19-shots-link-to-stroke.6861239/', 'https://forums.hardwarezone.com.sg/threads/singapore-approves-pfizer-bivalent-jab-for-those-aged-12-and-above.6827257/', 'https://forums.hardwarezone.com.sg/threads/who-took-moderna-bivalent-as-their-booster-lip-lai.6840467/', 'https://forums.hardwarezone.com.sg/threads/im-impressed-with-the-usage-of-bivalent-jab-and-removal-of-vds-for-unvax.6823045/', 'https://forums.hardwarezone.com.sg/threads/adverse-effects-rare-after-bivalent-covid-19-vaccine-jabs-hsa-report.6868384/', 'https://forums.hardwarezone.com.sg/threads/u-s-fda-cdc-see-early-signal-of-pfizer-bivalent-covid-shots-link-to-stroke-reuters.6861322/', 'https://forums.hardwarezone.com.sg/threads/bivalent-vaccine-didnt-improve-anything-i-feel.6836504/', 'https://forums.hardwarezone.com.sg/threads/glgt-moh-brings-forward-rollout-of-covid-19-bivalent-vaccine-amid-very-fast-rise-in-cases-of-new-omicron-variant.6821278/page-2', 'https://forums.hardwarezone.com.sg/threads/serious-i-have-heart-palpitation-after-28-dec-bivalent-hootz.6859670/', 'https://forums.hardwarezone.com.sg/threads/mrna-bivalent-vaccines-efficacy-against-latest-xbb-1-5-variant.6862815/', 'https://forums.hardwarezone.com.sg/threads/glgt-ong-ye-kung-urges-more-people-especially-seniors-to-get-bivalent-jab-amid-covid-19-mutation-risk-as-china-opens-up.6847326/', 'https://forums.hardwarezone.com.sg/threads/glgt-singapore-grants-interim-authorisation-for-first-bivalent-covid-19-booster-vaccine.6809184/page-4', 'https://forums.hardwarezone.com.sg/threads/386-000-bivalent-covid-19-vaccines-given-out-in-singapore-since-october-mobile-teams-to-boost-elderly-sign-ups.6847292/', 'https://forums.hardwarezone.com.sg/threads/over-586-000-people-have-taken-a-bivalent-covid-19-jab-moh.6856400/', 'https://forums.hardwarezone.com.sg/threads/glgt-bivalent-vaccine-gives-stronger-and-broader-protection-against-all-covid-19-strains.6823030/', 'https://forums.hardwarezone.com.sg/threads/singapore-data-for-bivalent-covid-19-vaccines-does-not-show-increased-risk-of-stroke-moh.6861552/page-6', 'https://forums.hardwarezone.com.sg/threads/gpgt-dpm-lawrence-wong-taking-moderna-bivalent-jab-this-morning.6833775/', 'https://forums.hardwarezone.com.sg/threads/glgt-ong-ye-kung-urges-more-people-especially-seniors-to-get-bivalent-jab-amid-covid-19-mutation-risk-as-china-opens-up.6847326/page-2', 'https://forums.hardwarezone.com.sg/threads/if-youre-young-and-fit-will-you-take-the-bivalent-jab.6861053/page-2', 'https://forums.hardwarezone.com.sg/threads/bivalent-moderna-covid-19-vaccine-available-in-singapore-oct-14-three-days-ahead-of-schedule.6821168/', 'https://forums.hardwarezone.com.sg/threads/glgt-moh-brings-forward-rollout-of-covid-19-bivalent-vaccine-amid-very-fast-rise-in-cases-of-new-omicron-variant.6821278/', 'https://forums.hardwarezone.com.sg/threads/moh-will-invite-people-aged-18-to-49-for-bivalent-vaccination-later-in-2022.6825082/page-6', 'https://forums.hardwarezone.com.sg/threads/glgt-singapore-grants-interim-authorisation-for-first-bivalent-covid-19-booster-vaccine.6809184/', 'https://forums.hardwarezone.com.sg/threads/glgt-singapore-grants-interim-authorisation-for-first-bivalent-covid-19-booster-vaccine.6809184/page-2', 'https://forums.hardwarezone.com.sg/threads/singapore-data-for-bivalent-covid-19-vaccines-does-not-show-increased-risk-of-stroke-moh.6861552/page-2', 'https://forums.hardwarezone.com.sg/threads/u-s-says-pfizers-bivalent-covid-shot-may-be-linked-to-stroke-in-older-adults.6861221/page-3', 'https://forums.hardwarezone.com.sg/threads/singapore-data-for-bivalent-covid-19-vaccines-does-not-show-increased-risk-of-stroke-moh.6861552/page-3', 'https://forums.hardwarezone.com.sg/threads/glgt-bivalent-vaccine-gives-stronger-and-broader-protection-against-all-covid-19-strains.6823030/page-2', 'https://forums.hardwarezone.com.sg/threads/glgt-vaccination-centres-busy-on-first-day-of-bivalent-vaccine-roll-out.6822939/page-2', 'https://forums.hardwarezone.com.sg/threads/ama-took-my-pfizer-bivalant-the-bestest-2nd-booster-in-sg.6849981/', 'https://forums.hardwarezone.com.sg/threads/what-is-the-bivalent-vaccine-jab-is-it-better-or-worse-than-pfizer.6837976/', 'https://forums.hardwarezone.com.sg/threads/what-the-media-didnt-tell-us-abt-bivalent-covid19-vax-ah.6809577/', 'https://forums.hardwarezone.com.sg/threads/oyk-moderna-spikevax-bivalent-vaccine-same-safety-profile-as-original-dose.6820475/page-2', 'https://forums.hardwarezone.com.sg/threads/bivalent-covid-19-vaccination-for-18-49-age-group-to-be-rolled-out-from-nov-7.6831404/page-2', 'https://forums.hardwarezone.com.sg/threads/bivalent-vaccine-booster.6822828/', 'https://forums.hardwarezone.com.sg/threads/how-long-after-getting-covid-can-we-go-take-the-bivalent-booster-shot.6856581/', 'https://forums.hardwarezone.com.sg/threads/glgt-effectiveness-of-covid-19-bivalent-vaccine-cleveland-clinic-study.6858061/', 'https://forums.hardwarezone.com.sg/threads/singapore-data-for-bivalent-covid-19-vaccines-does-not-show-increased-risk-of-stroke-moh.6861552/page-7', 'https://forums.hardwarezone.com.sg/threads/glgt-singapore-grants-interim-authorisation-for-first-bivalent-covid-19-booster-vaccine.6809184/page-3', 'https://forums.hardwarezone.com.sg/threads/singapore-data-for-bivalent-covid-19-vaccines-does-not-show-increased-risk-of-stroke-moh.6861552/page-11', 'https://forums.hardwarezone.com.sg/threads/mrna-bivalent-vaccines-efficacy-against-latest-xbb-1-5-variant.6862815/page-2', 'https://forums.hardwarezone.com.sg/threads/moh-will-invite-people-aged-18-to-49-for-bivalent-vaccination-later-in-2022.6825082/page-5', 'https://forums.hardwarezone.com.sg/threads/a-new-study-from-germany-points-to-more-adverse-reactions-following-bivalent-covid-19-mrna-booster-vaccine.6837967/', 'https://forums.hardwarezone.com.sg/threads/if-youre-young-and-fit-will-you-take-the-bivalent-jab.6861053/', 'https://forums.hardwarezone.com.sg/threads/need-to-wait-how-long-from-past-infection-to-take-bivalent-covid-vaccine.6832512/', 'https://forums.hardwarezone.com.sg/threads/glgt-ong-ye-kung-urges-more-people-especially-seniors-to-get-bivalent-jab-amid-covid-19-mutation-risk-as-china-opens-up.6847326/page-5', 'https://forums.hardwarezone.com.sg/threads/modernas-bivalent-covid-19-booster-vaccine-in-spore-by-end-sept-pfizers-being-evaluated.6809768/page-2', 'https://forums.hardwarezone.com.sg/threads/glgt-moh-brings-forward-rollout-of-covid-19-bivalent-vaccine-amid-very-fast-rise-in-cases-of-new-omicron-variant.6821278/page-4', 'https://forums.hardwarezone.com.sg/threads/is-it-ok-to-do-exercise-with-gf-wife-the-night-after-taking-bivalent-vaccine.6840666/', 'https://forums.hardwarezone.com.sg/threads/have-you-taken-your-bivalent-booster.6836443/', 'https://forums.hardwarezone.com.sg/threads/omg-us-sees-early-signal-of-pfizer-bivalent-covid-19-shots-link-to-stroke.6861239/page-2', 'https://forums.hardwarezone.com.sg/threads/bivalent-vaccine-didnt-improve-anything-i-feel.6836504/page-2', 'https://forums.hardwarezone.com.sg/threads/glgt-vaccination-centres-busy-on-first-day-of-bivalent-vaccine-roll-out.6822939/', 'https://forums.hardwarezone.com.sg/threads/singapore-data-for-bivalent-covid-19-vaccines-does-not-show-increased-risk-of-stroke-moh.6861552/page-4', 'https://forums.hardwarezone.com.sg/threads/serious-i-have-heart-palpitation-after-28-dec-bivalent-hootz.6859670/page-7', 'https://forums.hardwarezone.com.sg/threads/bivalent-covid-19-vaccine-will-be-offered-to-healthcare-workers-in-singapore-from-oct-25.6825660/', 'https://forums.hardwarezone.com.sg/threads/serious-i-have-heart-palpitation-after-28-dec-bivalent-hootz.6859670/page-8', 'https://forums.hardwarezone.com.sg/threads/serious-i-have-heart-palpitation-after-28-dec-bivalent-hootz.6859670/page-3', 'https://forums.hardwarezone.com.sg/threads/dailymail-fda-and-cdc-advisors-accuse-moderna-of-withholding-trial-data-that-suggested-its-covid-bivalent-booster-was-less-effective-than-older-shot.6860916/', 'https://forums.hardwarezone.com.sg/threads/glgt-ong-ye-kung-urges-more-people-especially-seniors-to-get-bivalent-jab-amid-covid-19-mutation-risk-as-china-opens-up.6847326/page-4', 'https://forums.hardwarezone.com.sg/threads/serious-i-have-heart-palpitation-after-28-dec-bivalent-hootz.6859670/page-2', 'https://forums.hardwarezone.com.sg/threads/serious-i-have-heart-palpitation-after-28-dec-bivalent-hootz.6859670/page-6', 'https://forums.hardwarezone.com.sg/threads/singapore-data-for-bivalent-covid-19-vaccines-does-not-show-increased-risk-of-stroke-moh.6861552/page-10', 'https://forums.hardwarezone.com.sg/threads/bivalent-covid-19-vaccination-for-18-49-age-group-to-be-rolled-out-from-nov-7.6831404/page-4', 'https://forums.hardwarezone.com.sg/threads/moh-will-invite-people-aged-18-to-49-for-bivalent-vaccination-later-in-2022.6825082/page-3', 'https://forums.hardwarezone.com.sg/threads/kenneth-mak-steps-are-being-taken-to-bring-modernas-new-bivalent-vaccine-once-available-cover-both-wildtype-covid-19-omicron-variant.6798931/', 'https://forums.hardwarezone.com.sg/threads/bivalent-moderna-covid-19-vaccine-available-in-singapore-oct-14-three-days-ahead-of-schedule.6821168/page-2', 'https://forums.hardwarezone.com.sg/threads/roll-out-of-moderna-spikevax-bivalent-covid-19-vaccine-brought-forward-to-oct-14-the-big-story.6821289/', 'https://forums.hardwarezone.com.sg/threads/17-flights-from-china-arriving-singapore-these-2-days-i-better-go-take-bivalent.6859550/', 'https://forums.hardwarezone.com.sg/threads/glgt-longer-waiting-times-up-to-2-hours-for-bivalent-jab-as-more-people-head-to-vaccination-centres.6824340/', 'https://forums.hardwarezone.com.sg/threads/glgt-answer-is-yes-five-months-after-their-second-booster-they-are-recommended-to-take-the-bivalent-vaccine-he-said.6825134/', 'https://forums.hardwarezone.com.sg/threads/oyk-i-have-received-several-questions-since-fridays-mtf-announcement.6820426/', 'https://forums.hardwarezone.com.sg/threads/will-u-take-the-4th-vaccine-shot.6835866/page-2', 'https://forums.hardwarezone.com.sg/threads/what-are-bivalent-vaccines-do-i-need-a-second-booster-heres-what-you-need-to-know-about-singapores-new-covid-19-vaccination-strategy.6821184/', 'https://forums.hardwarezone.com.sg/threads/u-s-says-pfizers-bivalent-covid-shot-may-be-linked-to-stroke-in-older-adults.6861221/page-2', 'https://forums.hardwarezone.com.sg/threads/2nd-booster-shot-side-effect-is-it-very-gao-lat.6849721/page-2', 'https://forums.hardwarezone.com.sg/threads/glgt-you-should-skip-the-second-covid-19-booster-shot-and-take-the-bivalent-vaccine-instead-says-ong-ye-kung.6820343/', 'https://forums.hardwarezone.com.sg/threads/st-singapore-grants-approval-for-pfizers-bivalent-vaccine-vaccines-for-under-5s-begin.6827366/', 'https://forums.hardwarezone.com.sg/threads/mr-yong-and-his-wife-took-their-fifth-shots-at-the-kaki-bukit-jtvc-where-the-waiting-time-stretched-up-to-two-hours.6824256/', 'https://forums.hardwarezone.com.sg/threads/sms-lai-liao.6832558/page-3', 'https://forums.hardwarezone.com.sg/threads/glgt-those-who-have-received-their-second-booster-should-be-offered-a-booster-dose-of-the-bivalent-vaccine-around-5-months-after-their-last-booster.6819786/', 'https://forums.hardwarezone.com.sg/threads/ong-added-that-the-review-on-vds-should-be-completed-in-the-next-couple-of-months.6808822/', 'https://forums.hardwarezone.com.sg/threads/moh-will-therefore-replace-the-original-moderna-spikevax-vaccines-with-the-updated-bivalent-version-from-17-oct-2022-sinovac-can-be-used-for-booster.6819711/page-2', 'https://forums.hardwarezone.com.sg/threads/going-japan-this-oct-dec.6221719/page-63', 'https://forums.hardwarezone.com.sg/threads/17-flights-from-china-arriving-singapore-these-2-days-i-better-go-take-bivalent.6859550/page-3', 'https://forums.hardwarezone.com.sg/threads/bloomberg-new-covid-boosters-arent-better-than-old-ones-study-finds.6829647/', 'https://forums.hardwarezone.com.sg/threads/poll-covid-4th-booster-jab-is-it-really-necessary.6844156/', 'https://forums.hardwarezone.com.sg/threads/people-think-they-dont-need-a-fourth-covid-19-shot-theyre-wrong.6842906/', 'https://forums.hardwarezone.com.sg/threads/2022-second-booster-shoot.6836652/', 'https://forums.hardwarezone.com.sg/threads/rules-tied-to-covid-19-vaccination-status-to-be-lifted-from-oct-10-as-spore-switches-to-up-to-date-vaccination-policy.6819756/', 'https://forums.hardwarezone.com.sg/threads/jab-5-times-still-tio-covid.6853477/page-2', 'https://forums.hardwarezone.com.sg/threads/why-oyk-so-satki-ah-among-the-fastest-in-the-world-to-review-the-moderna-bivalent-vaccine.6809826/', 'https://forums.hardwarezone.com.sg/threads/17-flights-from-china-arriving-singapore-these-2-days-i-better-go-take-bivalent.6859550/page-6']\n"
     ]
    }
   ],
   "source": [
    "links = list(dict.fromkeys(links))\n",
    "print(links)"
   ]
  },
  {
   "cell_type": "code",
   "execution_count": 7,
   "metadata": {},
   "outputs": [],
   "source": [
    "def scraper(discussion, url, firstPage):\n",
    "    #extract body text\n",
    "    comments = discussion.find(class_=\"message-body js-selectToQuote\")\n",
    "    s = comments.findAll(\"br\")\n",
    "    threads = discussion.find_all(class_=\"bbWrapper\")\n",
    "    for posts in threads:\n",
    "        text = \"\"\n",
    "        if posts.find(\"br\") == None:\n",
    "            text = posts.text\n",
    "\n",
    "        else:\n",
    "            stringified = str(posts)\n",
    "            if ('class=\"bbCodeBlock-sourceJump\"' in stringified):\n",
    "\n",
    "                if(stringified[23:34] != \"<blockquote\"):\n",
    "\n",
    "                    start = stringified.find('bbWrapper\">')\n",
    "                    end = stringified.find('<br/>')\n",
    "                    text = stringified[start + 11:end]\n",
    "            for br in posts:\n",
    "                next_s = br.nextSibling\n",
    "                if not (next_s and isinstance(next_s,NavigableString)):\n",
    "                    continue\n",
    "                next2_s = next_s.nextSibling\n",
    "                if next2_s and isinstance(next2_s,Tag) and next2_s.name == 'br':\n",
    "                    text += str(next_s).strip() + \" \"\n",
    "                else:\n",
    "                    text += str(next_s).strip()\n",
    "\n",
    "        if(\"Click to expand...\" in text):\n",
    "            text = str(text)[str(text).find(\"Click to expand...\") + 18:]\n",
    "        text = text.strip()\n",
    "        data_dictionary[\"body\"].append(text)\n",
    "\n",
    "    #extract author and thread \n",
    "    usernames = discussion.find_all(class_=\"message-name\")\n",
    "    for username in usernames:\n",
    "        if username.string[0] != \"@\":\n",
    "            if(username.text[0] != \" \"):\n",
    "                data_dictionary[\"author\"].append(username.string)\n",
    "\n",
    "    #extract reaction score\n",
    "    profiles = discussion.find_all(class_=\"message-userExtras\")\n",
    "    for profile in profiles:\n",
    "        s = profile.find_all(class_={\"pairs pairs--justified\"})\n",
    "        data_dictionary[\"score\"].append(s[2].find(\"dd\").text)\n",
    "        data_dictionary[\"source\"].append(\"hwz\")\n",
    "\n",
    "    #extract the dates\n",
    "    date_body = discussion.find_all(class_=\"message-attribution-main listInline\")\n",
    "    date = 0\n",
    "    for date_message in date_body:\n",
    "        extracted_date = date_message.find(class_=\"u-dt\")\n",
    "        if extracted_date == None:\n",
    "            data_dictionary[\"date\"].append(date)\n",
    "        else:\n",
    "            data_dictionary[\"date\"].append(extracted_date.text)\n",
    "            \n",
    "    \n",
    "    \n",
    "    return"
   ]
  },
  {
   "cell_type": "code",
   "execution_count": 8,
   "metadata": {},
   "outputs": [],
   "source": [
    "data_dictionary = { \"author\" : [], \"body\" : [], \"score\" : [], \"date\" : [], \"source\":[]}\n",
    "\n",
    "def scrape_threads(list):\n",
    "    for url in list:\n",
    "        page = requests.get(url)\n",
    "        soup = BeautifulSoup(page.content, \"html.parser\")\n",
    "        count = 0\n",
    "        firstPage = True\n",
    "        if(soup.find(class_=\"pageNav-jump pageNav-jump--next\") == None):\n",
    "            if (soup.find(\"div\",class_ = \"block-body js-replyNewMessageContainer\") != None):\n",
    "                discussion = soup.find(\"div\",class_ = \"block-body js-replyNewMessageContainer\")\n",
    "                scraper(discussion, url, firstPage)\n",
    "\n",
    "        while((soup.find(class_=\"pageNav-jump pageNav-jump--next\")) != None):\n",
    "            page = requests.get(url)\n",
    "            soup = BeautifulSoup(page.content, \"html.parser\")\n",
    "            discussion = soup.find(\"div\",class_ = \"block-body js-replyNewMessageContainer\")            \n",
    "            scraper(discussion, url, firstPage)\n",
    "            firstPage = False\n",
    "            \n",
    "            #next page\n",
    "            if(soup.find(class_=\"pageNav-jump pageNav-jump--next\") != None):\n",
    "                url = \"https://forums.hardwarezone.com.sg/\" + soup.find(class_=\"pageNav-jump pageNav-jump--next\")[\"href\"]\n",
    "            count += 1\n",
    "                    \n",
    "    return data_dictionary"
   ]
  },
  {
   "cell_type": "code",
   "execution_count": 9,
   "metadata": {},
   "outputs": [],
   "source": [
    "hwz_dict = scrape_threads(links)"
   ]
  },
  {
   "cell_type": "code",
   "execution_count": 11,
   "metadata": {},
   "outputs": [],
   "source": [
    "hwz_df = pd.DataFrame.from_dict(hwz_dict)\n",
    "hwz_df['body'] = hwz_df['body'].replace('', np.nan)\n",
    "hwz_df = hwz_df.dropna()"
   ]
  },
  {
   "cell_type": "code",
   "execution_count": 12,
   "metadata": {
    "scrolled": true
   },
   "outputs": [
    {
     "data": {
      "text/html": [
       "<div>\n",
       "<style scoped>\n",
       "    .dataframe tbody tr th:only-of-type {\n",
       "        vertical-align: middle;\n",
       "    }\n",
       "\n",
       "    .dataframe tbody tr th {\n",
       "        vertical-align: top;\n",
       "    }\n",
       "\n",
       "    .dataframe thead th {\n",
       "        text-align: right;\n",
       "    }\n",
       "</style>\n",
       "<table border=\"1\" class=\"dataframe\">\n",
       "  <thead>\n",
       "    <tr style=\"text-align: right;\">\n",
       "      <th></th>\n",
       "      <th>author</th>\n",
       "      <th>body</th>\n",
       "      <th>score</th>\n",
       "      <th>date</th>\n",
       "      <th>source</th>\n",
       "    </tr>\n",
       "  </thead>\n",
       "  <tbody>\n",
       "    <tr>\n",
       "      <th>2</th>\n",
       "      <td>DeadmanINC</td>\n",
       "      <td>standby wait for sms</td>\n",
       "      <td>337</td>\n",
       "      <td>Nov 4, 2022</td>\n",
       "      <td>hwz</td>\n",
       "    </tr>\n",
       "    <tr>\n",
       "      <th>3</th>\n",
       "      <td>Irenicis</td>\n",
       "      <td>If don't take this one, would we be considered...</td>\n",
       "      <td>39</td>\n",
       "      <td>Nov 4, 2022</td>\n",
       "      <td>hwz</td>\n",
       "    </tr>\n",
       "    <tr>\n",
       "      <th>4</th>\n",
       "      <td>yperic</td>\n",
       "      <td>\"In particular, those who have yet to complete...</td>\n",
       "      <td>8,202</td>\n",
       "      <td>Nov 4, 2022</td>\n",
       "      <td>hwz</td>\n",
       "    </tr>\n",
       "    <tr>\n",
       "      <th>5</th>\n",
       "      <td>elimmel</td>\n",
       "      <td>,\" said MOH.  wah this statement... means soon...</td>\n",
       "      <td>3,198</td>\n",
       "      <td>Nov 4, 2022</td>\n",
       "      <td>hwz</td>\n",
       "    </tr>\n",
       "    <tr>\n",
       "      <th>6</th>\n",
       "      <td>starry_starry_night</td>\n",
       "      <td>I thought Endemic? Why still need meh meh pak?</td>\n",
       "      <td>6,550</td>\n",
       "      <td>Nov 4, 2022</td>\n",
       "      <td>hwz</td>\n",
       "    </tr>\n",
       "  </tbody>\n",
       "</table>\n",
       "</div>"
      ],
      "text/plain": [
       "                author                                               body  \\\n",
       "2           DeadmanINC                               standby wait for sms   \n",
       "3             Irenicis  If don't take this one, would we be considered...   \n",
       "4               yperic  \"In particular, those who have yet to complete...   \n",
       "5              elimmel  ,\" said MOH.  wah this statement... means soon...   \n",
       "6  starry_starry_night     I thought Endemic? Why still need meh meh pak?   \n",
       "\n",
       "   score         date source  \n",
       "2    337  Nov 4, 2022    hwz  \n",
       "3     39  Nov 4, 2022    hwz  \n",
       "4  8,202  Nov 4, 2022    hwz  \n",
       "5  3,198  Nov 4, 2022    hwz  \n",
       "6  6,550  Nov 4, 2022    hwz  "
      ]
     },
     "execution_count": 12,
     "metadata": {},
     "output_type": "execute_result"
    }
   ],
   "source": [
    "hwz_df.head()"
   ]
  },
  {
   "cell_type": "code",
   "execution_count": 13,
   "metadata": {},
   "outputs": [],
   "source": [
    "hwz_df.to_json(\"hwz.json\",orient='records')"
   ]
  },
  {
   "cell_type": "code",
   "execution_count": null,
   "metadata": {},
   "outputs": [],
   "source": []
  }
 ],
 "metadata": {
  "kernelspec": {
   "display_name": "Python 3",
   "language": "python",
   "name": "python3"
  },
  "language_info": {
   "codemirror_mode": {
    "name": "ipython",
    "version": 3
   },
   "file_extension": ".py",
   "mimetype": "text/x-python",
   "name": "python",
   "nbconvert_exporter": "python",
   "pygments_lexer": "ipython3",
   "version": "3.8.5"
  }
 },
 "nbformat": 4,
 "nbformat_minor": 2
}
